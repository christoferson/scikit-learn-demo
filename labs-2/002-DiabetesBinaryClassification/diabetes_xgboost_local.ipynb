{
 "cells": [
  {
   "cell_type": "markdown",
   "metadata": {
    "nbpresent": {
     "id": "782a07bf-08de-4030-88e1-6731c4ac956e"
    }
   },
   "source": [
    "## Diabetes dataset \n",
    "### Predict if a person is at risk of developing diabetes\n",
    "### Binary Classification problem - XGBoost"
   ]
  },
  {
   "cell_type": "code",
   "execution_count": null,
   "metadata": {
    "nbpresent": {
     "id": "6c6a8672-d428-410a-82fa-7f587c9ef2ae"
    }
   },
   "outputs": [
    {
     "name": "stdout",
     "output_type": "stream",
     "text": [
      "Requirement already satisfied: xgboost in c:\\software\\py\\lib\\site-packages (2.1.0)\n",
      "Requirement already satisfied: numpy in c:\\software\\py\\lib\\site-packages (from xgboost) (1.24.4)\n",
      "Requirement already satisfied: scipy in c:\\software\\py\\lib\\site-packages (from xgboost) (1.10.1)\n"
     ]
    },
    {
     "name": "stderr",
     "output_type": "stream",
     "text": [
      "\n",
      "[notice] A new release of pip is available: 24.2 -> 24.3.1\n",
      "[notice] To update, run: python.exe -m pip install --upgrade pip\n"
     ]
    }
   ],
   "source": [
    "# Install xgboost in notebook instance.\n",
    "#### Command to install xgboost\n",
    "#!pip install xgboost"
   ]
  },
  {
   "cell_type": "code",
   "execution_count": 12,
   "metadata": {},
   "outputs": [
    {
     "name": "stdout",
     "output_type": "stream",
     "text": [
      "Requirement already satisfied: xgboost in c:\\software\\py\\lib\\site-packages (2.1.0)\n",
      "Collecting xgboost\n",
      "  Downloading xgboost-2.1.2-py3-none-win_amd64.whl.metadata (2.1 kB)\n",
      "Requirement already satisfied: numpy in c:\\software\\py\\lib\\site-packages (from xgboost) (1.24.4)\n",
      "Requirement already satisfied: scipy in c:\\software\\py\\lib\\site-packages (from xgboost) (1.10.1)\n",
      "Downloading xgboost-2.1.2-py3-none-win_amd64.whl (124.9 MB)\n",
      "   ---------------------------------------- 0.0/124.9 MB ? eta -:--:--\n",
      "   ---------------------------------------- 0.8/124.9 MB 3.3 MB/s eta 0:00:38\n",
      "    --------------------------------------- 1.8/124.9 MB 4.2 MB/s eta 0:00:30\n",
      "    --------------------------------------- 2.9/124.9 MB 4.4 MB/s eta 0:00:28\n",
      "   - -------------------------------------- 3.7/124.9 MB 4.3 MB/s eta 0:00:29\n",
      "   - -------------------------------------- 4.7/124.9 MB 4.5 MB/s eta 0:00:27\n",
      "   -- ------------------------------------- 6.6/124.9 MB 5.1 MB/s eta 0:00:24\n",
      "   -- ------------------------------------- 8.7/124.9 MB 5.8 MB/s eta 0:00:21\n",
      "   --- ------------------------------------ 11.3/124.9 MB 6.5 MB/s eta 0:00:18\n",
      "   ---- ----------------------------------- 12.6/124.9 MB 6.7 MB/s eta 0:00:17\n",
      "   ---- ----------------------------------- 13.9/124.9 MB 6.5 MB/s eta 0:00:18\n",
      "   ---- ----------------------------------- 15.5/124.9 MB 6.5 MB/s eta 0:00:17\n",
      "   ----- ---------------------------------- 16.8/124.9 MB 6.5 MB/s eta 0:00:17\n",
      "   ----- ---------------------------------- 18.6/124.9 MB 6.7 MB/s eta 0:00:16\n",
      "   ------ --------------------------------- 20.2/124.9 MB 6.7 MB/s eta 0:00:16\n",
      "   ------ --------------------------------- 21.2/124.9 MB 6.6 MB/s eta 0:00:16\n",
      "   ------- -------------------------------- 23.1/124.9 MB 6.7 MB/s eta 0:00:16\n",
      "   -------- ------------------------------- 25.2/124.9 MB 6.9 MB/s eta 0:00:15\n",
      "   -------- ------------------------------- 27.0/124.9 MB 7.0 MB/s eta 0:00:14\n",
      "   -------- ------------------------------- 28.0/124.9 MB 6.9 MB/s eta 0:00:15\n",
      "   --------- ------------------------------ 29.1/124.9 MB 6.8 MB/s eta 0:00:15\n",
      "   --------- ------------------------------ 30.9/124.9 MB 6.9 MB/s eta 0:00:14\n",
      "   ---------- ----------------------------- 32.8/124.9 MB 7.0 MB/s eta 0:00:14\n",
      "   ----------- ---------------------------- 34.9/124.9 MB 7.1 MB/s eta 0:00:13\n",
      "   ----------- ---------------------------- 37.2/124.9 MB 7.2 MB/s eta 0:00:13\n",
      "   ------------ --------------------------- 39.6/124.9 MB 7.4 MB/s eta 0:00:12\n",
      "   ------------- -------------------------- 41.9/124.9 MB 7.5 MB/s eta 0:00:12\n",
      "   ------------- -------------------------- 43.5/124.9 MB 7.5 MB/s eta 0:00:11\n",
      "   -------------- ------------------------- 44.8/124.9 MB 7.5 MB/s eta 0:00:11\n",
      "   -------------- ------------------------- 45.6/124.9 MB 7.3 MB/s eta 0:00:11\n",
      "   -------------- ------------------------- 46.4/124.9 MB 7.2 MB/s eta 0:00:11\n",
      "   --------------- ------------------------ 47.4/124.9 MB 7.1 MB/s eta 0:00:11\n",
      "   --------------- ------------------------ 48.2/124.9 MB 7.0 MB/s eta 0:00:11\n",
      "   --------------- ------------------------ 49.0/124.9 MB 6.9 MB/s eta 0:00:11\n",
      "   --------------- ------------------------ 49.8/124.9 MB 6.8 MB/s eta 0:00:12\n",
      "   ---------------- ----------------------- 50.3/124.9 MB 6.7 MB/s eta 0:00:12\n",
      "   ---------------- ----------------------- 51.1/124.9 MB 6.6 MB/s eta 0:00:12\n",
      "   ---------------- ----------------------- 51.9/124.9 MB 6.5 MB/s eta 0:00:12\n",
      "   ---------------- ----------------------- 52.7/124.9 MB 6.5 MB/s eta 0:00:12\n",
      "   ----------------- ---------------------- 54.0/124.9 MB 6.4 MB/s eta 0:00:12\n",
      "   ----------------- ---------------------- 55.1/124.9 MB 6.4 MB/s eta 0:00:11\n",
      "   ----------------- ---------------------- 55.8/124.9 MB 6.3 MB/s eta 0:00:11\n",
      "   ------------------ --------------------- 57.4/124.9 MB 6.3 MB/s eta 0:00:11\n",
      "   ------------------ --------------------- 59.0/124.9 MB 6.4 MB/s eta 0:00:11\n",
      "   ------------------- -------------------- 60.8/124.9 MB 6.4 MB/s eta 0:00:11\n",
      "   ------------------- -------------------- 62.4/124.9 MB 6.4 MB/s eta 0:00:10\n",
      "   -------------------- ------------------- 63.2/124.9 MB 6.3 MB/s eta 0:00:10\n",
      "   -------------------- ------------------- 64.0/124.9 MB 6.3 MB/s eta 0:00:10\n",
      "   -------------------- ------------------- 64.7/124.9 MB 6.2 MB/s eta 0:00:10\n",
      "   --------------------- ------------------ 65.8/124.9 MB 6.2 MB/s eta 0:00:10\n",
      "   --------------------- ------------------ 66.6/124.9 MB 6.1 MB/s eta 0:00:10\n",
      "   --------------------- ------------------ 66.8/124.9 MB 6.0 MB/s eta 0:00:10\n",
      "   --------------------- ------------------ 66.8/124.9 MB 6.0 MB/s eta 0:00:10\n",
      "   --------------------- ------------------ 66.8/124.9 MB 6.0 MB/s eta 0:00:10\n",
      "   --------------------- ------------------ 66.8/124.9 MB 6.0 MB/s eta 0:00:10\n",
      "   --------------------- ------------------ 67.1/124.9 MB 5.6 MB/s eta 0:00:11\n",
      "   --------------------- ------------------ 67.6/124.9 MB 5.5 MB/s eta 0:00:11\n",
      "   --------------------- ------------------ 68.2/124.9 MB 5.5 MB/s eta 0:00:11\n",
      "   --------------------- ------------------ 68.4/124.9 MB 5.4 MB/s eta 0:00:11\n",
      "   --------------------- ------------------ 68.4/124.9 MB 5.4 MB/s eta 0:00:11\n",
      "   --------------------- ------------------ 68.7/124.9 MB 5.3 MB/s eta 0:00:11\n",
      "   ---------------------- ----------------- 68.9/124.9 MB 5.2 MB/s eta 0:00:11\n",
      "   ---------------------- ----------------- 69.2/124.9 MB 5.1 MB/s eta 0:00:11\n",
      "   ---------------------- ----------------- 69.5/124.9 MB 5.1 MB/s eta 0:00:11\n",
      "   ---------------------- ----------------- 70.0/124.9 MB 5.0 MB/s eta 0:00:11\n",
      "   ---------------------- ----------------- 70.8/124.9 MB 5.0 MB/s eta 0:00:11\n",
      "   ---------------------- ----------------- 71.6/124.9 MB 5.0 MB/s eta 0:00:11\n",
      "   ----------------------- ---------------- 71.8/124.9 MB 4.9 MB/s eta 0:00:11\n",
      "   ----------------------- ---------------- 72.4/124.9 MB 4.9 MB/s eta 0:00:11\n",
      "   ----------------------- ---------------- 72.9/124.9 MB 4.9 MB/s eta 0:00:11\n",
      "   ----------------------- ---------------- 73.7/124.9 MB 4.8 MB/s eta 0:00:11\n",
      "   ----------------------- ---------------- 74.2/124.9 MB 4.8 MB/s eta 0:00:11\n",
      "   ----------------------- ---------------- 74.7/124.9 MB 4.7 MB/s eta 0:00:11\n",
      "   ------------------------ --------------- 75.2/124.9 MB 4.7 MB/s eta 0:00:11\n",
      "   ------------------------ --------------- 75.8/124.9 MB 4.7 MB/s eta 0:00:11\n",
      "   ------------------------ --------------- 76.8/124.9 MB 4.7 MB/s eta 0:00:11\n",
      "   ------------------------- -------------- 78.1/124.9 MB 4.7 MB/s eta 0:00:10\n",
      "   ------------------------- -------------- 78.6/124.9 MB 4.7 MB/s eta 0:00:10\n",
      "   ------------------------- -------------- 79.4/124.9 MB 4.7 MB/s eta 0:00:10\n",
      "   ------------------------- -------------- 80.2/124.9 MB 4.6 MB/s eta 0:00:10\n",
      "   ------------------------- -------------- 81.0/124.9 MB 4.6 MB/s eta 0:00:10\n",
      "   -------------------------- ------------- 81.8/124.9 MB 4.6 MB/s eta 0:00:10\n",
      "   -------------------------- ------------- 82.6/124.9 MB 4.6 MB/s eta 0:00:10\n",
      "   -------------------------- ------------- 83.6/124.9 MB 4.6 MB/s eta 0:00:09\n",
      "   --------------------------- ------------ 85.5/124.9 MB 4.7 MB/s eta 0:00:09\n",
      "   --------------------------- ------------ 86.8/124.9 MB 4.7 MB/s eta 0:00:09\n",
      "   ---------------------------- ----------- 87.8/124.9 MB 4.7 MB/s eta 0:00:08\n",
      "   ---------------------------- ----------- 89.4/124.9 MB 4.7 MB/s eta 0:00:08\n",
      "   ---------------------------- ----------- 90.4/124.9 MB 4.7 MB/s eta 0:00:08\n",
      "   ----------------------------- ---------- 91.0/124.9 MB 4.7 MB/s eta 0:00:08\n",
      "   ----------------------------- ---------- 91.8/124.9 MB 4.7 MB/s eta 0:00:08\n",
      "   ----------------------------- ---------- 92.5/124.9 MB 4.7 MB/s eta 0:00:07\n",
      "   ------------------------------ --------- 93.8/124.9 MB 4.7 MB/s eta 0:00:07\n",
      "   ------------------------------ --------- 95.7/124.9 MB 4.7 MB/s eta 0:00:07\n",
      "   ------------------------------- -------- 98.0/124.9 MB 4.8 MB/s eta 0:00:06\n",
      "   -------------------------------- ------- 100.4/124.9 MB 4.8 MB/s eta 0:00:06\n",
      "   -------------------------------- ------- 102.5/124.9 MB 4.9 MB/s eta 0:00:05\n",
      "   --------------------------------- ------ 105.1/124.9 MB 5.0 MB/s eta 0:00:04\n",
      "   ---------------------------------- ----- 107.5/124.9 MB 5.0 MB/s eta 0:00:04\n",
      "   ----------------------------------- ---- 109.6/124.9 MB 5.1 MB/s eta 0:00:04\n",
      "   ----------------------------------- ---- 111.1/124.9 MB 5.1 MB/s eta 0:00:03\n",
      "   ----------------------------------- ---- 112.2/124.9 MB 5.1 MB/s eta 0:00:03\n",
      "   ------------------------------------ --- 113.5/124.9 MB 5.1 MB/s eta 0:00:03\n",
      "   ------------------------------------ --- 114.3/124.9 MB 5.1 MB/s eta 0:00:03\n",
      "   ------------------------------------- -- 115.6/124.9 MB 5.1 MB/s eta 0:00:02\n",
      "   ------------------------------------- -- 117.7/124.9 MB 5.1 MB/s eta 0:00:02\n",
      "   -------------------------------------- - 119.8/124.9 MB 5.2 MB/s eta 0:00:01\n",
      "   ---------------------------------------  122.4/124.9 MB 5.2 MB/s eta 0:00:01\n",
      "   ---------------------------------------  124.3/124.9 MB 5.3 MB/s eta 0:00:01\n",
      "   ---------------------------------------  124.8/124.9 MB 5.3 MB/s eta 0:00:01\n",
      "   ---------------------------------------  124.8/124.9 MB 5.3 MB/s eta 0:00:01\n",
      "   ---------------------------------------  124.8/124.9 MB 5.3 MB/s eta 0:00:01\n",
      "   ---------------------------------------- 124.9/124.9 MB 5.1 MB/s eta 0:00:00\n",
      "Installing collected packages: xgboost\n",
      "  Attempting uninstall: xgboost\n",
      "    Found existing installation: xgboost 2.1.0\n",
      "    Uninstalling xgboost-2.1.0:\n",
      "      Successfully uninstalled xgboost-2.1.0\n",
      "Successfully installed xgboost-2.1.2\n",
      "Note: you may need to restart the kernel to use updated packages.\n"
     ]
    },
    {
     "name": "stderr",
     "output_type": "stream",
     "text": [
      "  WARNING: Failed to remove contents in a temporary directory 'C:\\software\\py\\Lib\\site-packages\\~gboost'.\n",
      "  You can safely remove it manually.\n",
      "\n",
      "[notice] A new release of pip is available: 24.2 -> 24.3.1\n",
      "[notice] To update, run: python.exe -m pip install --upgrade pip\n"
     ]
    }
   ],
   "source": [
    "pip install -U xgboost"
   ]
  },
  {
   "cell_type": "code",
   "execution_count": 2,
   "metadata": {
    "nbpresent": {
     "id": "652b58d4-3b75-405f-9f11-24d0cd1f9656"
    }
   },
   "outputs": [],
   "source": [
    "import sys\n",
    "import numpy as np\n",
    "import pandas as pd\n",
    "import matplotlib.pyplot as plt\n",
    "import itertools\n",
    "\n",
    "import xgboost as xgb\n",
    "from sklearn.metrics import classification_report, confusion_matrix"
   ]
  },
  {
   "cell_type": "code",
   "execution_count": 3,
   "metadata": {
    "nbpresent": {
     "id": "a3946273-d086-4564-b0f1-6adc225191c3"
    }
   },
   "outputs": [],
   "source": [
    "column_list_file = 'data/out/diabetes_train_column_list.txt'\n",
    "train_file = 'data/out/diabetes_train.csv'\n",
    "validation_file = 'data/out/diabetes_validation.csv'"
   ]
  },
  {
   "cell_type": "code",
   "execution_count": 4,
   "metadata": {
    "nbpresent": {
     "id": "7c803d6c-74cc-40d2-ab48-747ff4346c22"
    }
   },
   "outputs": [],
   "source": [
    "columns = ''\n",
    "with open(column_list_file,'r') as f:\n",
    "    columns = f.read().split(',')"
   ]
  },
  {
   "cell_type": "code",
   "execution_count": 5,
   "metadata": {
    "nbpresent": {
     "id": "630dde8d-44b9-415d-8876-4e873407d0fc"
    }
   },
   "outputs": [
    {
     "data": {
      "text/plain": [
       "['diabetes_class',\n",
       " 'preg_count',\n",
       " 'glucose_concentration',\n",
       " 'diastolic_bp',\n",
       " 'triceps_skin_fold_thickness',\n",
       " 'two_hr_serum_insulin',\n",
       " 'bmi',\n",
       " 'diabetes_pedi',\n",
       " 'age']"
      ]
     },
     "execution_count": 5,
     "metadata": {},
     "output_type": "execute_result"
    }
   ],
   "source": [
    "columns"
   ]
  },
  {
   "cell_type": "code",
   "execution_count": 5,
   "metadata": {
    "nbpresent": {
     "id": "d6ff2283-cb13-468f-b0cc-0aefeab7b57f"
    }
   },
   "outputs": [],
   "source": [
    "# Specify the column names as the file does not have column header\n",
    "df_train = pd.read_csv(train_file,names=columns)\n",
    "df_validation = pd.read_csv(validation_file,names=columns)"
   ]
  },
  {
   "cell_type": "code",
   "execution_count": 6,
   "metadata": {
    "nbpresent": {
     "id": "a195ae30-1962-4427-859b-73a013dc10d6"
    }
   },
   "outputs": [
    {
     "data": {
      "text/html": [
       "<div>\n",
       "<style scoped>\n",
       "    .dataframe tbody tr th:only-of-type {\n",
       "        vertical-align: middle;\n",
       "    }\n",
       "\n",
       "    .dataframe tbody tr th {\n",
       "        vertical-align: top;\n",
       "    }\n",
       "\n",
       "    .dataframe thead th {\n",
       "        text-align: right;\n",
       "    }\n",
       "</style>\n",
       "<table border=\"1\" class=\"dataframe\">\n",
       "  <thead>\n",
       "    <tr style=\"text-align: right;\">\n",
       "      <th></th>\n",
       "      <th>diabetes_class</th>\n",
       "      <th>preg_count</th>\n",
       "      <th>glucose_concentration</th>\n",
       "      <th>diastolic_bp</th>\n",
       "      <th>triceps_skin_fold_thickness</th>\n",
       "      <th>two_hr_serum_insulin</th>\n",
       "      <th>bmi</th>\n",
       "      <th>diabetes_pedi</th>\n",
       "      <th>age</th>\n",
       "    </tr>\n",
       "  </thead>\n",
       "  <tbody>\n",
       "    <tr>\n",
       "      <th>0</th>\n",
       "      <td>0</td>\n",
       "      <td>6</td>\n",
       "      <td>92</td>\n",
       "      <td>62</td>\n",
       "      <td>32</td>\n",
       "      <td>126</td>\n",
       "      <td>32.0</td>\n",
       "      <td>0.085</td>\n",
       "      <td>46</td>\n",
       "    </tr>\n",
       "    <tr>\n",
       "      <th>1</th>\n",
       "      <td>0</td>\n",
       "      <td>5</td>\n",
       "      <td>132</td>\n",
       "      <td>80</td>\n",
       "      <td>0</td>\n",
       "      <td>0</td>\n",
       "      <td>26.8</td>\n",
       "      <td>0.186</td>\n",
       "      <td>69</td>\n",
       "    </tr>\n",
       "    <tr>\n",
       "      <th>2</th>\n",
       "      <td>0</td>\n",
       "      <td>3</td>\n",
       "      <td>106</td>\n",
       "      <td>72</td>\n",
       "      <td>0</td>\n",
       "      <td>0</td>\n",
       "      <td>25.8</td>\n",
       "      <td>0.207</td>\n",
       "      <td>27</td>\n",
       "    </tr>\n",
       "    <tr>\n",
       "      <th>3</th>\n",
       "      <td>0</td>\n",
       "      <td>4</td>\n",
       "      <td>99</td>\n",
       "      <td>68</td>\n",
       "      <td>38</td>\n",
       "      <td>0</td>\n",
       "      <td>32.8</td>\n",
       "      <td>0.145</td>\n",
       "      <td>33</td>\n",
       "    </tr>\n",
       "    <tr>\n",
       "      <th>4</th>\n",
       "      <td>0</td>\n",
       "      <td>4</td>\n",
       "      <td>96</td>\n",
       "      <td>56</td>\n",
       "      <td>17</td>\n",
       "      <td>49</td>\n",
       "      <td>20.8</td>\n",
       "      <td>0.340</td>\n",
       "      <td>26</td>\n",
       "    </tr>\n",
       "  </tbody>\n",
       "</table>\n",
       "</div>"
      ],
      "text/plain": [
       "   diabetes_class  preg_count  glucose_concentration  diastolic_bp  \\\n",
       "0               0           6                     92            62   \n",
       "1               0           5                    132            80   \n",
       "2               0           3                    106            72   \n",
       "3               0           4                     99            68   \n",
       "4               0           4                     96            56   \n",
       "\n",
       "   triceps_skin_fold_thickness  two_hr_serum_insulin   bmi  diabetes_pedi  age  \n",
       "0                           32                   126  32.0          0.085   46  \n",
       "1                            0                     0  26.8          0.186   69  \n",
       "2                            0                     0  25.8          0.207   27  \n",
       "3                           38                     0  32.8          0.145   33  \n",
       "4                           17                    49  20.8          0.340   26  "
      ]
     },
     "execution_count": 6,
     "metadata": {},
     "output_type": "execute_result"
    }
   ],
   "source": [
    "df_train.head()"
   ]
  },
  {
   "cell_type": "code",
   "execution_count": 8,
   "metadata": {
    "nbpresent": {
     "id": "e30e8aeb-1ca2-4851-bc2d-1bdee29ab1cf"
    }
   },
   "outputs": [
    {
     "data": {
      "text/html": [
       "<div>\n",
       "<style scoped>\n",
       "    .dataframe tbody tr th:only-of-type {\n",
       "        vertical-align: middle;\n",
       "    }\n",
       "\n",
       "    .dataframe tbody tr th {\n",
       "        vertical-align: top;\n",
       "    }\n",
       "\n",
       "    .dataframe thead th {\n",
       "        text-align: right;\n",
       "    }\n",
       "</style>\n",
       "<table border=\"1\" class=\"dataframe\">\n",
       "  <thead>\n",
       "    <tr style=\"text-align: right;\">\n",
       "      <th></th>\n",
       "      <th>diabetes_class</th>\n",
       "      <th>preg_count</th>\n",
       "      <th>glucose_concentration</th>\n",
       "      <th>diastolic_bp</th>\n",
       "      <th>triceps_skin_fold_thickness</th>\n",
       "      <th>two_hr_serum_insulin</th>\n",
       "      <th>bmi</th>\n",
       "      <th>diabetes_pedi</th>\n",
       "      <th>age</th>\n",
       "    </tr>\n",
       "  </thead>\n",
       "  <tbody>\n",
       "    <tr>\n",
       "      <th>0</th>\n",
       "      <td>0</td>\n",
       "      <td>1</td>\n",
       "      <td>130</td>\n",
       "      <td>70</td>\n",
       "      <td>13</td>\n",
       "      <td>105</td>\n",
       "      <td>25.9</td>\n",
       "      <td>0.472</td>\n",
       "      <td>22</td>\n",
       "    </tr>\n",
       "    <tr>\n",
       "      <th>1</th>\n",
       "      <td>1</td>\n",
       "      <td>8</td>\n",
       "      <td>133</td>\n",
       "      <td>72</td>\n",
       "      <td>0</td>\n",
       "      <td>0</td>\n",
       "      <td>32.9</td>\n",
       "      <td>0.270</td>\n",
       "      <td>39</td>\n",
       "    </tr>\n",
       "    <tr>\n",
       "      <th>2</th>\n",
       "      <td>0</td>\n",
       "      <td>0</td>\n",
       "      <td>137</td>\n",
       "      <td>68</td>\n",
       "      <td>14</td>\n",
       "      <td>148</td>\n",
       "      <td>24.8</td>\n",
       "      <td>0.143</td>\n",
       "      <td>21</td>\n",
       "    </tr>\n",
       "    <tr>\n",
       "      <th>3</th>\n",
       "      <td>0</td>\n",
       "      <td>2</td>\n",
       "      <td>88</td>\n",
       "      <td>74</td>\n",
       "      <td>19</td>\n",
       "      <td>53</td>\n",
       "      <td>29.0</td>\n",
       "      <td>0.229</td>\n",
       "      <td>22</td>\n",
       "    </tr>\n",
       "    <tr>\n",
       "      <th>4</th>\n",
       "      <td>1</td>\n",
       "      <td>9</td>\n",
       "      <td>130</td>\n",
       "      <td>70</td>\n",
       "      <td>0</td>\n",
       "      <td>0</td>\n",
       "      <td>34.2</td>\n",
       "      <td>0.652</td>\n",
       "      <td>45</td>\n",
       "    </tr>\n",
       "  </tbody>\n",
       "</table>\n",
       "</div>"
      ],
      "text/plain": [
       "   diabetes_class  preg_count  glucose_concentration  diastolic_bp  \\\n",
       "0               0           1                    130            70   \n",
       "1               1           8                    133            72   \n",
       "2               0           0                    137            68   \n",
       "3               0           2                     88            74   \n",
       "4               1           9                    130            70   \n",
       "\n",
       "   triceps_skin_fold_thickness  two_hr_serum_insulin   bmi  diabetes_pedi  age  \n",
       "0                           13                   105  25.9          0.472   22  \n",
       "1                            0                     0  32.9          0.270   39  \n",
       "2                           14                   148  24.8          0.143   21  \n",
       "3                           19                    53  29.0          0.229   22  \n",
       "4                            0                     0  34.2          0.652   45  "
      ]
     },
     "execution_count": 8,
     "metadata": {},
     "output_type": "execute_result"
    }
   ],
   "source": [
    "df_validation.head()"
   ]
  },
  {
   "cell_type": "code",
   "execution_count": null,
   "metadata": {
    "nbpresent": {
     "id": "3b240613-803d-4fa9-93cf-53ef68df7b93"
    }
   },
   "outputs": [],
   "source": [
    "# X_train will contain: [feature1, feature2, feature3]\n",
    "# y_train will contain: [target]\n",
    "X_train = df_train.iloc[:,1:] # Features: selects all rows, selects all columns starting from index 1 (second column) to the end\n",
    "y_train = df_train.iloc[:,0].ravel() # Target: selects all rows, selects only the first column (index 0),  converts the result into a 1D array\n",
    "\n",
    "X_validation = df_validation.iloc[:,1:]\n",
    "y_validation = df_validation.iloc[:,0].ravel()"
   ]
  },
  {
   "cell_type": "code",
   "execution_count": 16,
   "metadata": {
    "nbpresent": {
     "id": "9edc89e7-45d3-4350-9eb4-3e0938c3c55e"
    }
   },
   "outputs": [],
   "source": [
    "# Launch a classifier\n",
    "# XGBoost Training Parameter Reference: \n",
    "#   https://xgboost.readthedocs.io/en/latest/parameter.html\n",
    "classifier = xgb.XGBClassifier (objective=\"binary:logistic\", eval_metric=\"logloss\", early_stopping_rounds=10)"
   ]
  },
  {
   "cell_type": "code",
   "execution_count": 11,
   "metadata": {
    "nbpresent": {
     "id": "348296fb-8c9b-4598-ad2e-d1fe8e10f76a"
    }
   },
   "outputs": [
    {
     "data": {
      "text/plain": [
       "XGBClassifier(base_score=None, booster=None, colsample_bylevel=None,\n",
       "              colsample_bynode=None, colsample_bytree=None,\n",
       "              enable_categorical=False, gamma=None, gpu_id=None,\n",
       "              importance_type=None, interaction_constraints=None,\n",
       "              learning_rate=None, max_delta_step=None, max_depth=None,\n",
       "              min_child_weight=None, missing=nan, monotone_constraints=None,\n",
       "              n_estimators=100, n_jobs=None, num_parallel_tree=None,\n",
       "              predictor=None, random_state=None, reg_alpha=None,\n",
       "              reg_lambda=None, scale_pos_weight=None, subsample=None,\n",
       "              tree_method=None, validate_parameters=None, verbosity=None)"
      ]
     },
     "execution_count": 11,
     "metadata": {},
     "output_type": "execute_result"
    }
   ],
   "source": [
    "classifier"
   ]
  },
  {
   "cell_type": "code",
   "execution_count": 17,
   "metadata": {
    "nbpresent": {
     "id": "9839d7ce-e791-4d93-bc5f-28604ffde022"
    }
   },
   "outputs": [
    {
     "name": "stdout",
     "output_type": "stream",
     "text": [
      "[0]\tvalidation_0-logloss:0.52191\tvalidation_1-logloss:0.56646\n",
      "[1]\tvalidation_0-logloss:0.44164\tvalidation_1-logloss:0.53907\n",
      "[2]\tvalidation_0-logloss:0.38850\tvalidation_1-logloss:0.52374\n",
      "[3]\tvalidation_0-logloss:0.34971\tvalidation_1-logloss:0.51755\n",
      "[4]\tvalidation_0-logloss:0.31881\tvalidation_1-logloss:0.51622\n",
      "[5]\tvalidation_0-logloss:0.29696\tvalidation_1-logloss:0.51488\n",
      "[6]\tvalidation_0-logloss:0.27601\tvalidation_1-logloss:0.52174\n",
      "[7]\tvalidation_0-logloss:0.26337\tvalidation_1-logloss:0.51949\n",
      "[8]\tvalidation_0-logloss:0.24812\tvalidation_1-logloss:0.51747\n",
      "[9]\tvalidation_0-logloss:0.23522\tvalidation_1-logloss:0.52216\n",
      "[10]\tvalidation_0-logloss:0.22014\tvalidation_1-logloss:0.53212\n",
      "[11]\tvalidation_0-logloss:0.21153\tvalidation_1-logloss:0.53560\n",
      "[12]\tvalidation_0-logloss:0.19995\tvalidation_1-logloss:0.53719\n",
      "[13]\tvalidation_0-logloss:0.19365\tvalidation_1-logloss:0.53574\n",
      "[14]\tvalidation_0-logloss:0.18719\tvalidation_1-logloss:0.54294\n",
      "[15]\tvalidation_0-logloss:0.18058\tvalidation_1-logloss:0.54953\n"
     ]
    },
    {
     "data": {
      "text/html": [
       "<style>#sk-container-id-1 {color: black;}#sk-container-id-1 pre{padding: 0;}#sk-container-id-1 div.sk-toggleable {background-color: white;}#sk-container-id-1 label.sk-toggleable__label {cursor: pointer;display: block;width: 100%;margin-bottom: 0;padding: 0.3em;box-sizing: border-box;text-align: center;}#sk-container-id-1 label.sk-toggleable__label-arrow:before {content: \"▸\";float: left;margin-right: 0.25em;color: #696969;}#sk-container-id-1 label.sk-toggleable__label-arrow:hover:before {color: black;}#sk-container-id-1 div.sk-estimator:hover label.sk-toggleable__label-arrow:before {color: black;}#sk-container-id-1 div.sk-toggleable__content {max-height: 0;max-width: 0;overflow: hidden;text-align: left;background-color: #f0f8ff;}#sk-container-id-1 div.sk-toggleable__content pre {margin: 0.2em;color: black;border-radius: 0.25em;background-color: #f0f8ff;}#sk-container-id-1 input.sk-toggleable__control:checked~div.sk-toggleable__content {max-height: 200px;max-width: 100%;overflow: auto;}#sk-container-id-1 input.sk-toggleable__control:checked~label.sk-toggleable__label-arrow:before {content: \"▾\";}#sk-container-id-1 div.sk-estimator input.sk-toggleable__control:checked~label.sk-toggleable__label {background-color: #d4ebff;}#sk-container-id-1 div.sk-label input.sk-toggleable__control:checked~label.sk-toggleable__label {background-color: #d4ebff;}#sk-container-id-1 input.sk-hidden--visually {border: 0;clip: rect(1px 1px 1px 1px);clip: rect(1px, 1px, 1px, 1px);height: 1px;margin: -1px;overflow: hidden;padding: 0;position: absolute;width: 1px;}#sk-container-id-1 div.sk-estimator {font-family: monospace;background-color: #f0f8ff;border: 1px dotted black;border-radius: 0.25em;box-sizing: border-box;margin-bottom: 0.5em;}#sk-container-id-1 div.sk-estimator:hover {background-color: #d4ebff;}#sk-container-id-1 div.sk-parallel-item::after {content: \"\";width: 100%;border-bottom: 1px solid gray;flex-grow: 1;}#sk-container-id-1 div.sk-label:hover label.sk-toggleable__label {background-color: #d4ebff;}#sk-container-id-1 div.sk-serial::before {content: \"\";position: absolute;border-left: 1px solid gray;box-sizing: border-box;top: 0;bottom: 0;left: 50%;z-index: 0;}#sk-container-id-1 div.sk-serial {display: flex;flex-direction: column;align-items: center;background-color: white;padding-right: 0.2em;padding-left: 0.2em;position: relative;}#sk-container-id-1 div.sk-item {position: relative;z-index: 1;}#sk-container-id-1 div.sk-parallel {display: flex;align-items: stretch;justify-content: center;background-color: white;position: relative;}#sk-container-id-1 div.sk-item::before, #sk-container-id-1 div.sk-parallel-item::before {content: \"\";position: absolute;border-left: 1px solid gray;box-sizing: border-box;top: 0;bottom: 0;left: 50%;z-index: -1;}#sk-container-id-1 div.sk-parallel-item {display: flex;flex-direction: column;z-index: 1;position: relative;background-color: white;}#sk-container-id-1 div.sk-parallel-item:first-child::after {align-self: flex-end;width: 50%;}#sk-container-id-1 div.sk-parallel-item:last-child::after {align-self: flex-start;width: 50%;}#sk-container-id-1 div.sk-parallel-item:only-child::after {width: 0;}#sk-container-id-1 div.sk-dashed-wrapped {border: 1px dashed gray;margin: 0 0.4em 0.5em 0.4em;box-sizing: border-box;padding-bottom: 0.4em;background-color: white;}#sk-container-id-1 div.sk-label label {font-family: monospace;font-weight: bold;display: inline-block;line-height: 1.2em;}#sk-container-id-1 div.sk-label-container {text-align: center;}#sk-container-id-1 div.sk-container {/* jupyter's `normalize.less` sets `[hidden] { display: none; }` but bootstrap.min.css set `[hidden] { display: none !important; }` so we also need the `!important` here to be able to override the default hidden behavior on the sphinx rendered scikit-learn.org. See: https://github.com/scikit-learn/scikit-learn/issues/21755 */display: inline-block !important;position: relative;}#sk-container-id-1 div.sk-text-repr-fallback {display: none;}</style><div id=\"sk-container-id-1\" class=\"sk-top-container\"><div class=\"sk-text-repr-fallback\"><pre>XGBClassifier(base_score=None, booster=None, callbacks=None,\n",
       "              colsample_bylevel=None, colsample_bynode=None,\n",
       "              colsample_bytree=None, device=None, early_stopping_rounds=10,\n",
       "              enable_categorical=False, eval_metric=&#x27;logloss&#x27;,\n",
       "              feature_types=None, gamma=None, grow_policy=None,\n",
       "              importance_type=None, interaction_constraints=None,\n",
       "              learning_rate=None, max_bin=None, max_cat_threshold=None,\n",
       "              max_cat_to_onehot=None, max_delta_step=None, max_depth=None,\n",
       "              max_leaves=None, min_child_weight=None, missing=nan,\n",
       "              monotone_constraints=None, multi_strategy=None, n_estimators=None,\n",
       "              n_jobs=None, num_parallel_tree=None, random_state=None, ...)</pre><b>In a Jupyter environment, please rerun this cell to show the HTML representation or trust the notebook. <br />On GitHub, the HTML representation is unable to render, please try loading this page with nbviewer.org.</b></div><div class=\"sk-container\" hidden><div class=\"sk-item\"><div class=\"sk-estimator sk-toggleable\"><input class=\"sk-toggleable__control sk-hidden--visually\" id=\"sk-estimator-id-1\" type=\"checkbox\" checked><label for=\"sk-estimator-id-1\" class=\"sk-toggleable__label sk-toggleable__label-arrow\">XGBClassifier</label><div class=\"sk-toggleable__content\"><pre>XGBClassifier(base_score=None, booster=None, callbacks=None,\n",
       "              colsample_bylevel=None, colsample_bynode=None,\n",
       "              colsample_bytree=None, device=None, early_stopping_rounds=10,\n",
       "              enable_categorical=False, eval_metric=&#x27;logloss&#x27;,\n",
       "              feature_types=None, gamma=None, grow_policy=None,\n",
       "              importance_type=None, interaction_constraints=None,\n",
       "              learning_rate=None, max_bin=None, max_cat_threshold=None,\n",
       "              max_cat_to_onehot=None, max_delta_step=None, max_depth=None,\n",
       "              max_leaves=None, min_child_weight=None, missing=nan,\n",
       "              monotone_constraints=None, multi_strategy=None, n_estimators=None,\n",
       "              n_jobs=None, num_parallel_tree=None, random_state=None, ...)</pre></div></div></div></div></div>"
      ],
      "text/plain": [
       "XGBClassifier(base_score=None, booster=None, callbacks=None,\n",
       "              colsample_bylevel=None, colsample_bynode=None,\n",
       "              colsample_bytree=None, device=None, early_stopping_rounds=10,\n",
       "              enable_categorical=False, eval_metric='logloss',\n",
       "              feature_types=None, gamma=None, grow_policy=None,\n",
       "              importance_type=None, interaction_constraints=None,\n",
       "              learning_rate=None, max_bin=None, max_cat_threshold=None,\n",
       "              max_cat_to_onehot=None, max_delta_step=None, max_depth=None,\n",
       "              max_leaves=None, min_child_weight=None, missing=nan,\n",
       "              monotone_constraints=None, multi_strategy=None, n_estimators=None,\n",
       "              n_jobs=None, num_parallel_tree=None, random_state=None, ...)"
      ]
     },
     "execution_count": 17,
     "metadata": {},
     "output_type": "execute_result"
    }
   ],
   "source": [
    "classifier.fit(X_train,\n",
    "               y_train, \n",
    "               eval_set = [(X_train, y_train), (X_validation, y_validation)], \n",
    "              # eval_metric=['logloss'],\n",
    "               #early_stopping_rounds=10\n",
    "               )"
   ]
  },
  {
   "cell_type": "code",
   "execution_count": 18,
   "metadata": {
    "nbpresent": {
     "id": "e08f22c1-4346-4e2d-96a2-9974ed5c59ff"
    }
   },
   "outputs": [],
   "source": [
    "eval_result = classifier.evals_result()"
   ]
  },
  {
   "cell_type": "code",
   "execution_count": 19,
   "metadata": {
    "nbpresent": {
     "id": "092776c3-a611-4f40-91e2-664b3b99d05e"
    }
   },
   "outputs": [],
   "source": [
    "training_rounds = range(len(eval_result['validation_0']['logloss']))"
   ]
  },
  {
   "cell_type": "code",
   "execution_count": 20,
   "metadata": {
    "nbpresent": {
     "id": "2e9af3f7-fb85-4c52-83d5-ff9cae457294"
    }
   },
   "outputs": [
    {
     "name": "stdout",
     "output_type": "stream",
     "text": [
      "range(0, 16)\n"
     ]
    }
   ],
   "source": [
    "print(training_rounds)"
   ]
  },
  {
   "cell_type": "code",
   "execution_count": 16,
   "metadata": {
    "nbpresent": {
     "id": "5e71239a-e321-43ba-ac2c-993b57b3be3a"
    }
   },
   "outputs": [
    {
     "data": {
      "image/png": "[encoded data removed]",
      "text/plain": [
       "<Figure size 432x288 with 1 Axes>"
      ]
     },
     "metadata": {
      "needs_background": "light"
     },
     "output_type": "display_data"
    }
   ],
   "source": [
    "plt.scatter(x=training_rounds,y=eval_result['validation_0']['logloss'],label='Training Error')\n",
    "plt.scatter(x=training_rounds,y=eval_result['validation_1']['logloss'],label='Validation Error')\n",
    "plt.grid(True)\n",
    "plt.xlabel('Iteration')\n",
    "plt.ylabel('LogLoss')\n",
    "plt.title('Training Vs Validation Error')\n",
    "plt.legend()\n",
    "plt.show()"
   ]
  },
  {
   "cell_type": "code",
   "execution_count": 21,
   "metadata": {
    "nbpresent": {
     "id": "f144f315-6d38-429e-8c17-06c17a446198"
    }
   },
   "outputs": [
    {
     "data": {
      "image/png": "[encoded data removed]",
      "text/plain": [
       "<Figure size 640x480 with 1 Axes>"
      ]
     },
     "metadata": {},
     "output_type": "display_data"
    }
   ],
   "source": [
    "xgb.plot_importance(classifier)\n",
    "plt.show()"
   ]
  },
  {
   "cell_type": "code",
   "execution_count": 22,
   "metadata": {
    "nbpresent": {
     "id": "3312675d-307c-4eff-b835-34f0e7f57924"
    }
   },
   "outputs": [],
   "source": [
    "df = pd.read_csv(validation_file,names=columns)"
   ]
  },
  {
   "cell_type": "code",
   "execution_count": 23,
   "metadata": {
    "nbpresent": {
     "id": "afad019f-88df-4893-bb3d-b7f2b7db214b"
    }
   },
   "outputs": [
    {
     "data": {
      "text/html": [
       "<div>\n",
       "<style scoped>\n",
       "    .dataframe tbody tr th:only-of-type {\n",
       "        vertical-align: middle;\n",
       "    }\n",
       "\n",
       "    .dataframe tbody tr th {\n",
       "        vertical-align: top;\n",
       "    }\n",
       "\n",
       "    .dataframe thead th {\n",
       "        text-align: right;\n",
       "    }\n",
       "</style>\n",
       "<table border=\"1\" class=\"dataframe\">\n",
       "  <thead>\n",
       "    <tr style=\"text-align: right;\">\n",
       "      <th></th>\n",
       "      <th>diabetes_class</th>\n",
       "      <th>preg_count</th>\n",
       "      <th>glucose_concentration</th>\n",
       "      <th>diastolic_bp</th>\n",
       "      <th>triceps_skin_fold_thickness</th>\n",
       "      <th>two_hr_serum_insulin</th>\n",
       "      <th>bmi</th>\n",
       "      <th>diabetes_pedi</th>\n",
       "      <th>age</th>\n",
       "    </tr>\n",
       "  </thead>\n",
       "  <tbody>\n",
       "    <tr>\n",
       "      <th>0</th>\n",
       "      <td>0</td>\n",
       "      <td>1</td>\n",
       "      <td>130</td>\n",
       "      <td>70</td>\n",
       "      <td>13</td>\n",
       "      <td>105</td>\n",
       "      <td>25.9</td>\n",
       "      <td>0.472</td>\n",
       "      <td>22</td>\n",
       "    </tr>\n",
       "    <tr>\n",
       "      <th>1</th>\n",
       "      <td>1</td>\n",
       "      <td>8</td>\n",
       "      <td>133</td>\n",
       "      <td>72</td>\n",
       "      <td>0</td>\n",
       "      <td>0</td>\n",
       "      <td>32.9</td>\n",
       "      <td>0.270</td>\n",
       "      <td>39</td>\n",
       "    </tr>\n",
       "    <tr>\n",
       "      <th>2</th>\n",
       "      <td>0</td>\n",
       "      <td>0</td>\n",
       "      <td>137</td>\n",
       "      <td>68</td>\n",
       "      <td>14</td>\n",
       "      <td>148</td>\n",
       "      <td>24.8</td>\n",
       "      <td>0.143</td>\n",
       "      <td>21</td>\n",
       "    </tr>\n",
       "    <tr>\n",
       "      <th>3</th>\n",
       "      <td>0</td>\n",
       "      <td>2</td>\n",
       "      <td>88</td>\n",
       "      <td>74</td>\n",
       "      <td>19</td>\n",
       "      <td>53</td>\n",
       "      <td>29.0</td>\n",
       "      <td>0.229</td>\n",
       "      <td>22</td>\n",
       "    </tr>\n",
       "    <tr>\n",
       "      <th>4</th>\n",
       "      <td>1</td>\n",
       "      <td>9</td>\n",
       "      <td>130</td>\n",
       "      <td>70</td>\n",
       "      <td>0</td>\n",
       "      <td>0</td>\n",
       "      <td>34.2</td>\n",
       "      <td>0.652</td>\n",
       "      <td>45</td>\n",
       "    </tr>\n",
       "  </tbody>\n",
       "</table>\n",
       "</div>"
      ],
      "text/plain": [
       "   diabetes_class  preg_count  glucose_concentration  diastolic_bp  \\\n",
       "0               0           1                    130            70   \n",
       "1               1           8                    133            72   \n",
       "2               0           0                    137            68   \n",
       "3               0           2                     88            74   \n",
       "4               1           9                    130            70   \n",
       "\n",
       "   triceps_skin_fold_thickness  two_hr_serum_insulin   bmi  diabetes_pedi  age  \n",
       "0                           13                   105  25.9          0.472   22  \n",
       "1                            0                     0  32.9          0.270   39  \n",
       "2                           14                   148  24.8          0.143   21  \n",
       "3                           19                    53  29.0          0.229   22  \n",
       "4                            0                     0  34.2          0.652   45  "
      ]
     },
     "execution_count": 23,
     "metadata": {},
     "output_type": "execute_result"
    }
   ],
   "source": [
    "df.head()"
   ]
  },
  {
   "cell_type": "code",
   "execution_count": 24,
   "metadata": {
    "nbpresent": {
     "id": "9b5cb70d-6069-4511-810e-fd17e72667dd"
    }
   },
   "outputs": [],
   "source": [
    "X_test = df.iloc[:,1:]"
   ]
  },
  {
   "cell_type": "code",
   "execution_count": 25,
   "metadata": {
    "nbpresent": {
     "id": "f611c852-50e3-4a1a-9134-c1c6e82ad780"
    }
   },
   "outputs": [],
   "source": [
    "result = classifier.predict(X_test)"
   ]
  },
  {
   "cell_type": "code",
   "execution_count": 26,
   "metadata": {},
   "outputs": [
    {
     "data": {
      "text/plain": [
       "array([0, 0, 0, 0, 1])"
      ]
     },
     "execution_count": 26,
     "metadata": {},
     "output_type": "execute_result"
    }
   ],
   "source": [
    "result[:5]"
   ]
  },
  {
   "cell_type": "code",
   "execution_count": 27,
   "metadata": {
    "nbpresent": {
     "id": "2c573c2b-4143-4e01-b107-e6b871ce0249"
    }
   },
   "outputs": [],
   "source": [
    "df['predicted_class'] = result"
   ]
  },
  {
   "cell_type": "code",
   "execution_count": 28,
   "metadata": {
    "nbpresent": {
     "id": "5ad0fa04-6896-46b5-bc23-40d61480d7ca"
    }
   },
   "outputs": [
    {
     "data": {
      "text/html": [
       "<div>\n",
       "<style scoped>\n",
       "    .dataframe tbody tr th:only-of-type {\n",
       "        vertical-align: middle;\n",
       "    }\n",
       "\n",
       "    .dataframe tbody tr th {\n",
       "        vertical-align: top;\n",
       "    }\n",
       "\n",
       "    .dataframe thead th {\n",
       "        text-align: right;\n",
       "    }\n",
       "</style>\n",
       "<table border=\"1\" class=\"dataframe\">\n",
       "  <thead>\n",
       "    <tr style=\"text-align: right;\">\n",
       "      <th></th>\n",
       "      <th>diabetes_class</th>\n",
       "      <th>preg_count</th>\n",
       "      <th>glucose_concentration</th>\n",
       "      <th>diastolic_bp</th>\n",
       "      <th>triceps_skin_fold_thickness</th>\n",
       "      <th>two_hr_serum_insulin</th>\n",
       "      <th>bmi</th>\n",
       "      <th>diabetes_pedi</th>\n",
       "      <th>age</th>\n",
       "      <th>predicted_class</th>\n",
       "    </tr>\n",
       "  </thead>\n",
       "  <tbody>\n",
       "    <tr>\n",
       "      <th>0</th>\n",
       "      <td>0</td>\n",
       "      <td>1</td>\n",
       "      <td>130</td>\n",
       "      <td>70</td>\n",
       "      <td>13</td>\n",
       "      <td>105</td>\n",
       "      <td>25.9</td>\n",
       "      <td>0.472</td>\n",
       "      <td>22</td>\n",
       "      <td>0</td>\n",
       "    </tr>\n",
       "    <tr>\n",
       "      <th>1</th>\n",
       "      <td>1</td>\n",
       "      <td>8</td>\n",
       "      <td>133</td>\n",
       "      <td>72</td>\n",
       "      <td>0</td>\n",
       "      <td>0</td>\n",
       "      <td>32.9</td>\n",
       "      <td>0.270</td>\n",
       "      <td>39</td>\n",
       "      <td>0</td>\n",
       "    </tr>\n",
       "    <tr>\n",
       "      <th>2</th>\n",
       "      <td>0</td>\n",
       "      <td>0</td>\n",
       "      <td>137</td>\n",
       "      <td>68</td>\n",
       "      <td>14</td>\n",
       "      <td>148</td>\n",
       "      <td>24.8</td>\n",
       "      <td>0.143</td>\n",
       "      <td>21</td>\n",
       "      <td>0</td>\n",
       "    </tr>\n",
       "    <tr>\n",
       "      <th>3</th>\n",
       "      <td>0</td>\n",
       "      <td>2</td>\n",
       "      <td>88</td>\n",
       "      <td>74</td>\n",
       "      <td>19</td>\n",
       "      <td>53</td>\n",
       "      <td>29.0</td>\n",
       "      <td>0.229</td>\n",
       "      <td>22</td>\n",
       "      <td>0</td>\n",
       "    </tr>\n",
       "    <tr>\n",
       "      <th>4</th>\n",
       "      <td>1</td>\n",
       "      <td>9</td>\n",
       "      <td>130</td>\n",
       "      <td>70</td>\n",
       "      <td>0</td>\n",
       "      <td>0</td>\n",
       "      <td>34.2</td>\n",
       "      <td>0.652</td>\n",
       "      <td>45</td>\n",
       "      <td>1</td>\n",
       "    </tr>\n",
       "  </tbody>\n",
       "</table>\n",
       "</div>"
      ],
      "text/plain": [
       "   diabetes_class  preg_count  glucose_concentration  diastolic_bp  \\\n",
       "0               0           1                    130            70   \n",
       "1               1           8                    133            72   \n",
       "2               0           0                    137            68   \n",
       "3               0           2                     88            74   \n",
       "4               1           9                    130            70   \n",
       "\n",
       "   triceps_skin_fold_thickness  two_hr_serum_insulin   bmi  diabetes_pedi  \\\n",
       "0                           13                   105  25.9          0.472   \n",
       "1                            0                     0  32.9          0.270   \n",
       "2                           14                   148  24.8          0.143   \n",
       "3                           19                    53  29.0          0.229   \n",
       "4                            0                     0  34.2          0.652   \n",
       "\n",
       "   age  predicted_class  \n",
       "0   22                0  \n",
       "1   39                0  \n",
       "2   21                0  \n",
       "3   22                0  \n",
       "4   45                1  "
      ]
     },
     "execution_count": 28,
     "metadata": {},
     "output_type": "execute_result"
    }
   ],
   "source": [
    "df.head()"
   ]
  },
  {
   "cell_type": "markdown",
   "metadata": {},
   "source": [
    "## Binary Classifier Metrics"
   ]
  },
  {
   "cell_type": "code",
   "execution_count": 29,
   "metadata": {},
   "outputs": [],
   "source": [
    "# Reference: https://scikit-learn.org/stable/modules/model_evaluation.html\n",
    "# Explicitly stating labels. Pass=1, Fail=0\n",
    "def true_positive(y_true, y_pred): \n",
    "    return confusion_matrix(y_true, y_pred,labels=[1,0])[0, 0]\n",
    "\n",
    "def true_negative(y_true, y_pred): \n",
    "    return confusion_matrix(y_true,y_pred,labels=[1,0])[1, 1]\n",
    "\n",
    "def false_positive(y_true, y_pred): \n",
    "    return confusion_matrix(y_true, y_pred,labels=[1,0])[1, 0]\n",
    "\n",
    "def false_negative(y_true, y_pred): \n",
    "    return confusion_matrix(y_true, y_pred,labels=[1,0])[0, 1]"
   ]
  },
  {
   "cell_type": "code",
   "execution_count": 30,
   "metadata": {},
   "outputs": [],
   "source": [
    "# Compute Binary Classifier Metrics\n",
    "# Returns a dictionary {\"MetricName\":Value,...}\n",
    "\n",
    "def binary_classifier_metrics(y_true, y_pred):\n",
    "    metrics = {}\n",
    "\n",
    "    # References: \n",
    "    #  https://docs.aws.amazon.com/machine-learning/latest/dg/binary-classification.html\n",
    "    #  https://en.wikipedia.org/wiki/Confusion_matrix\n",
    "    \n",
    "    # Definition:\n",
    "    # true positive = tp = how many samples were correctly classified as positive (count)\n",
    "    # true negative = tn = how many samples were correctly classified as negative (count)\n",
    "    # false positive = fp = how many negative samples were mis-classified as positive (count)\n",
    "    # false_negative = fn = how many positive samples were mis-classified as negative (count)\n",
    "    \n",
    "    # positive = number of positive samples (count)\n",
    "    #          = true positive + false negative\n",
    "    # negative = number of negative samples (count)\n",
    "    #          = true negative + false positive\n",
    "    \n",
    "    tp = true_positive(y_true, y_pred)\n",
    "    tn = true_negative(y_true, y_pred)\n",
    "    fp = false_positive(y_true, y_pred)\n",
    "    fn = false_negative(y_true, y_pred)\n",
    "    \n",
    "    positive = tp + fn\n",
    "    negative = tn + fp\n",
    "    \n",
    "    metrics['TruePositive'] = tp\n",
    "    metrics['TrueNegative'] = tn\n",
    "    metrics['FalsePositive'] = fp\n",
    "    metrics['FalseNegative'] = fn\n",
    "    \n",
    "    metrics['Positive'] = positive\n",
    "    metrics['Negative'] = negative\n",
    "    \n",
    "    # True Positive Rate (TPR, Recall) = true positive/positive\n",
    "    # How many positives were correctly classified? (fraction)\n",
    "    # Recall value closer to 1 is better. closer to 0 is worse\n",
    "    if tp == 0:\n",
    "        recall = 0\n",
    "    else:\n",
    "        recall = tp/positive\n",
    "        \n",
    "    metrics['Recall'] = recall\n",
    "    \n",
    "    # True Negative Rate = True Negative/negative\n",
    "    # How many negatives were correctly classified? (fraction)\n",
    "    # True Negative Rate value closer to 1 is better. closer to 0 is worse\n",
    "    if tn == 0:\n",
    "        tnr = 0\n",
    "    else:\n",
    "        tnr = tn/(negative)\n",
    "    metrics['TrueNegativeRate'] = tnr\n",
    "    \n",
    "    # Precision = True Positive/(True Positive + False Positive)\n",
    "    # How many positives classified by the algorithm are really positives? (fraction)\n",
    "    # Precision value closer to 1 is better. closer to 0 is worse\n",
    "    if tp == 0:\n",
    "        precision = 0\n",
    "    else:\n",
    "        precision = tp/(tp + fp)\n",
    "    metrics['Precision'] = precision\n",
    "    \n",
    "    # Accuracy = (True Positive + True Negative)/(total positive + total negative)\n",
    "    # How many positives and negatives were correctly classified? (fraction)\n",
    "    # Accuracy value closer to 1 is better. closer to 0 is worse\n",
    "    accuracy = (tp + tn)/(positive + negative)\n",
    "    metrics['Accuracy'] = accuracy\n",
    "    \n",
    "    # False Positive Rate (FPR, False Alarm) = False Positive/(total negative)\n",
    "    # How many negatives were mis-classified as positives (fraction)\n",
    "    # False Positive Rate value closer to 0 is better. closer to 1 is worse\n",
    "    if fp == 0:\n",
    "        fpr = 0\n",
    "    else:\n",
    "        fpr = fp/(negative)\n",
    "    metrics['FalsePositiveRate'] = fpr\n",
    "    \n",
    "    # False Negative Rate (FNR, Misses) = False Negative/(total Positive)\n",
    "    # How many positives were mis-classified as negative (fraction)\n",
    "    # False Negative Rate value closer to 0 is better. closer to 1 is worse\n",
    "    fnr = fn/(positive)\n",
    "    metrics['FalseNegativeRate'] = fnr\n",
    "    \n",
    "    # F1 Score = harmonic mean of Precision and Recall\n",
    "    # F1 Score closer to 1 is better. Closer to 0 is worse.\n",
    "    if precision == 0 or recall == 0:\n",
    "        f1 = 0\n",
    "    else:        \n",
    "        f1 = 2*precision*recall/(precision+recall)\n",
    "\n",
    "    metrics['F1'] = f1\n",
    "    \n",
    "    return metrics"
   ]
  },
  {
   "cell_type": "code",
   "execution_count": 31,
   "metadata": {},
   "outputs": [],
   "source": [
    "# Reference: \n",
    "# https://scikit-learn.org/stable/auto_examples/model_selection/plot_confusion_matrix.html\n",
    "def plot_confusion_matrix(cm, classes,\n",
    "                          normalize=False,\n",
    "                          title='Confusion matrix',\n",
    "                          cmap=plt.cm.Blues):\n",
    "    \"\"\"\n",
    "    This function prints and plots the confusion matrix.\n",
    "    Normalization can be applied by setting `normalize=True`.\n",
    "    \"\"\"\n",
    "    if normalize:\n",
    "        cm = cm.astype('float') / cm.sum(axis=1)[:, np.newaxis]\n",
    "        #print(\"Normalized confusion matrix\")\n",
    "    #else:\n",
    "    #    print('Confusion matrix, without normalization')\n",
    "\n",
    "    #print(cm)\n",
    "\n",
    "    plt.imshow(cm, interpolation='nearest', cmap=cmap)\n",
    "    plt.title(title)\n",
    "    plt.colorbar()\n",
    "    tick_marks = np.arange(len(classes))\n",
    "    plt.xticks(tick_marks, classes, rotation=45)\n",
    "    plt.yticks(tick_marks, classes)\n",
    "\n",
    "    fmt = '.2f' if normalize else 'd'\n",
    "    thresh = cm.max() / 2.\n",
    "    for i, j in itertools.product(range(cm.shape[0]), range(cm.shape[1])):\n",
    "        plt.text(j, i, format(cm[i, j], fmt),\n",
    "                 horizontalalignment=\"center\",\n",
    "                 color=\"white\" if cm[i, j] > thresh else \"black\")\n",
    "\n",
    "    plt.ylabel('True label')\n",
    "    plt.xlabel('Predicted label')\n",
    "    plt.tight_layout()"
   ]
  },
  {
   "cell_type": "code",
   "execution_count": 32,
   "metadata": {},
   "outputs": [],
   "source": [
    "# Compute confusion matrix\n",
    "cnf_matrix = confusion_matrix(df['diabetes_class'], df['predicted_class'],labels=[1,0])"
   ]
  },
  {
   "cell_type": "code",
   "execution_count": 29,
   "metadata": {},
   "outputs": [
    {
     "data": {
      "image/png": "[encoded data removed]",
      "text/plain": [
       "<Figure size 432x288 with 2 Axes>"
      ]
     },
     "metadata": {
      "needs_background": "light"
     },
     "output_type": "display_data"
    }
   ],
   "source": [
    "# Plot confusion matrix\n",
    "plt.figure()\n",
    "plot_confusion_matrix(cnf_matrix, classes=['Diabetic','Normal'],\n",
    "                      title='Confusion Matrix')"
   ]
  },
  {
   "cell_type": "code",
   "execution_count": 33,
   "metadata": {},
   "outputs": [
    {
     "data": {
      "image/png": "[encoded data removed]",
      "text/plain": [
       "<Figure size 640x480 with 2 Axes>"
      ]
     },
     "metadata": {},
     "output_type": "display_data"
    }
   ],
   "source": [
    "# Plot confusion matrix\n",
    "plt.figure()\n",
    "plot_confusion_matrix(cnf_matrix, classes=['Diabetic','Normal'],\n",
    "                      title='Confusion Matrix - Fraction', normalize=True)"
   ]
  },
  {
   "cell_type": "code",
   "execution_count": 34,
   "metadata": {},
   "outputs": [],
   "source": [
    "metrics = [binary_classifier_metrics(df['diabetes_class'], df['predicted_class'])]\n",
    "df_metrics=pd.DataFrame.from_dict(metrics)\n",
    "df_metrics.index = ['Model']"
   ]
  },
  {
   "cell_type": "code",
   "execution_count": 35,
   "metadata": {},
   "outputs": [
    {
     "data": {
      "text/html": [
       "<div>\n",
       "<style scoped>\n",
       "    .dataframe tbody tr th:only-of-type {\n",
       "        vertical-align: middle;\n",
       "    }\n",
       "\n",
       "    .dataframe tbody tr th {\n",
       "        vertical-align: top;\n",
       "    }\n",
       "\n",
       "    .dataframe thead th {\n",
       "        text-align: right;\n",
       "    }\n",
       "</style>\n",
       "<table border=\"1\" class=\"dataframe\">\n",
       "  <thead>\n",
       "    <tr style=\"text-align: right;\">\n",
       "      <th></th>\n",
       "      <th>TruePositive</th>\n",
       "      <th>TrueNegative</th>\n",
       "      <th>FalsePositive</th>\n",
       "      <th>FalseNegative</th>\n",
       "      <th>Positive</th>\n",
       "      <th>Negative</th>\n",
       "      <th>Recall</th>\n",
       "      <th>TrueNegativeRate</th>\n",
       "      <th>Precision</th>\n",
       "      <th>Accuracy</th>\n",
       "      <th>FalsePositiveRate</th>\n",
       "      <th>FalseNegativeRate</th>\n",
       "      <th>F1</th>\n",
       "    </tr>\n",
       "  </thead>\n",
       "  <tbody>\n",
       "    <tr>\n",
       "      <th>Model</th>\n",
       "      <td>51</td>\n",
       "      <td>119</td>\n",
       "      <td>33</td>\n",
       "      <td>28</td>\n",
       "      <td>79</td>\n",
       "      <td>152</td>\n",
       "      <td>0.64557</td>\n",
       "      <td>0.782895</td>\n",
       "      <td>0.607143</td>\n",
       "      <td>0.735931</td>\n",
       "      <td>0.217105</td>\n",
       "      <td>0.35443</td>\n",
       "      <td>0.625767</td>\n",
       "    </tr>\n",
       "  </tbody>\n",
       "</table>\n",
       "</div>"
      ],
      "text/plain": [
       "       TruePositive  TrueNegative  FalsePositive  FalseNegative  Positive  \\\n",
       "Model            51           119             33             28        79   \n",
       "\n",
       "       Negative   Recall  TrueNegativeRate  Precision  Accuracy  \\\n",
       "Model       152  0.64557          0.782895   0.607143  0.735931   \n",
       "\n",
       "       FalsePositiveRate  FalseNegativeRate        F1  \n",
       "Model           0.217105            0.35443  0.625767  "
      ]
     },
     "execution_count": 35,
     "metadata": {},
     "output_type": "execute_result"
    }
   ],
   "source": [
    "df_metrics"
   ]
  },
  {
   "cell_type": "code",
   "execution_count": 36,
   "metadata": {},
   "outputs": [
    {
     "name": "stdout",
     "output_type": "stream",
     "text": [
      "Counts\n",
      "       TruePositive  FalseNegative  FalsePositive  TrueNegative\n",
      "Model            51             28             33           119\n",
      "\n",
      "Fractions\n",
      "       Recall  FalseNegativeRate  FalsePositiveRate  TrueNegativeRate\n",
      "Model    0.65               0.35               0.22              0.78\n",
      "\n",
      "       Precision  Accuracy    F1\n",
      "Model       0.61      0.74  0.63\n"
     ]
    }
   ],
   "source": [
    "print('Counts')\n",
    "print(df_metrics[['TruePositive',\n",
    "                  'FalseNegative',\n",
    "                  'FalsePositive',\n",
    "                  'TrueNegative',]].round(2))\n",
    "print()\n",
    "print('Fractions')\n",
    "print(df_metrics[['Recall',\n",
    "                  'FalseNegativeRate',\n",
    "                  'FalsePositiveRate',\n",
    "                  'TrueNegativeRate',]].round(2))\n",
    "print()\n",
    "\n",
    "print(df_metrics[['Precision',\n",
    "                  'Accuracy',\n",
    "                  'F1']].round(2))"
   ]
  },
  {
   "cell_type": "code",
   "execution_count": 37,
   "metadata": {},
   "outputs": [
    {
     "name": "stdout",
     "output_type": "stream",
     "text": [
      "              precision    recall  f1-score   support\n",
      "\n",
      "    Diabetic       0.61      0.65      0.63        79\n",
      "      Normal       0.81      0.78      0.80       152\n",
      "\n",
      "    accuracy                           0.74       231\n",
      "   macro avg       0.71      0.71      0.71       231\n",
      "weighted avg       0.74      0.74      0.74       231\n",
      "\n"
     ]
    }
   ],
   "source": [
    "print(classification_report(\n",
    "    df['diabetes_class'],\n",
    "    df['predicted_class'],\n",
    "    labels=[1,0],\n",
    "    target_names=['Diabetic','Normal']))"
   ]
  },
  {
   "cell_type": "code",
   "execution_count": null,
   "metadata": {},
   "outputs": [],
   "source": []
  }
 ],
 "metadata": {
  "kernelspec": {
   "display_name": "Python 3",
   "language": "python",
   "name": "python3"
  },
  "language_info": {
   "codemirror_mode": {
    "name": "ipython",
    "version": 3
   },
   "file_extension": ".py",
   "mimetype": "text/x-python",
   "name": "python",
   "nbconvert_exporter": "python",
   "pygments_lexer": "ipython3",
   "version": "3.8.10"
  }
 },
 "nbformat": 4,
 "nbformat_minor": 2
}
